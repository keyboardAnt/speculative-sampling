{
 "cells": [
  {
   "cell_type": "code",
   "execution_count": 1,
   "metadata": {},
   "outputs": [
    {
     "name": "stdout",
     "output_type": "stream",
     "text": [
      "/Users/nadavt/opt/anaconda3/envs/jaymody-sps-env/bin/python\n",
      "Python 3.9.10\n",
      "zsh:1: command not found: nvidia-smi\n"
     ]
    }
   ],
   "source": [
    "!which python\n",
    "!python --version\n",
    "!nvidia-smi"
   ]
  },
  {
   "cell_type": "code",
   "execution_count": 2,
   "metadata": {},
   "outputs": [],
   "source": [
    "# !python -m torch.utils.collect_env"
   ]
  },
  {
   "cell_type": "code",
   "execution_count": 3,
   "metadata": {},
   "outputs": [
    {
     "name": "stdout",
     "output_type": "stream",
     "text": [
      "Note: you may need to restart the kernel to use updated packages.\n"
     ]
    }
   ],
   "source": [
    "pip install -q torch transformers"
   ]
  },
  {
   "cell_type": "code",
   "execution_count": 13,
   "metadata": {},
   "outputs": [
    {
     "data": {
      "text/plain": [
       "torch.Size([1, 6, 50257])"
      ]
     },
     "execution_count": 13,
     "metadata": {},
     "output_type": "execute_result"
    }
   ],
   "source": [
    "# Load model & Sanity check\n",
    "import torch\n",
    "from transformers import AutoTokenizer, GPT2LMHeadModel\n",
    "\n",
    "draft_tokenizer = AutoTokenizer.from_pretrained(\"gpt2\")\n",
    "target_tokenizer = AutoTokenizer.from_pretrained(\"gpt2-medium\")\n",
    "\n",
    "draft_model = GPT2LMHeadModel.from_pretrained(\"gpt2\")\n",
    "target_model = GPT2LMHeadModel.from_pretrained(\"gpt2-medium\")\n",
    "\n",
    "draft_inputs = draft_tokenizer(\"Hello, my dog is cute\", return_tensors=\"pt\")\n",
    "target_inputs = target_tokenizer(\"Hello, my dog is cute\", return_tensors=\"pt\")\n",
    "assert torch.all(draft_inputs.input_ids == target_inputs.input_ids)\n",
    "assert torch.all(draft_inputs.attention_mask == target_inputs.attention_mask)\n",
    "\n",
    "draft_outputs = draft_model(**draft_inputs, labels=draft_inputs[\"input_ids\"])\n",
    "target_outputs = target_model(**target_inputs, labels=target_inputs[\"input_ids\"])\n",
    "\n",
    "\n",
    "loss = draft_outputs.loss\n",
    "logits = draft_outputs.logits\n",
    "logits.shape"
   ]
  },
  {
   "cell_type": "code",
   "execution_count": 21,
   "metadata": {},
   "outputs": [
    {
     "name": "stderr",
     "output_type": "stream",
     "text": [
      "Setting `pad_token_id` to `eos_token_id`:50256 for open-end generation.\n",
      "Setting `pad_token_id` to `eos_token_id`:50256 for open-end generation.\n"
     ]
    },
    {
     "name": "stdout",
     "output_type": "stream",
     "text": [
      "draft_outputs.sequences == target_outputs.sequences:\n",
      "tensor([[ True,  True,  True,  True,  True,  True,  True,  True,  True, False,\n",
      "         False, False, False, False, False, False, False, False, False, False,\n",
      "         False, False, False, False, False, False]])\n",
      "draft_outputs.sequences:\n",
      "[\"Hello, my dog is cute. I'm not sure if she's a puppy or not. I'm not sure if she's\"]\n",
      "target_outputs.sequences:\n",
      "[\"Hello, my dog is cute. I'm going to take him to the park today. I'm going to take him to the\"]\n"
     ]
    }
   ],
   "source": [
    "# Generate\n",
    "draft_outputs = draft_model.generate(**draft_inputs, max_new_tokens=20, return_dict_in_generate=True, output_scores=True, do_sample=False)\n",
    "target_outputs = target_model.generate(**target_inputs, max_new_tokens=20, return_dict_in_generate=True, output_scores=True, do_sample=False)\n",
    "print(\"draft_outputs.sequences == target_outputs.sequences:\")\n",
    "print(draft_outputs.sequences == target_outputs.sequences)\n",
    "\n",
    "print(\"draft_outputs.sequences:\")\n",
    "print(draft_tokenizer.batch_decode(draft_outputs.sequences))\n",
    "\n",
    "print(\"target_outputs.sequences:\")\n",
    "print(target_tokenizer.batch_decode(target_outputs.sequences))\n",
    "\n",
    "# print(\"draft_outputs:\")\n",
    "# print(draft_outputs)\n",
    "# print(\"====\")\n",
    "# transition_scores = draft_model.compute_transition_scores(\n",
    "#     draft_outputs.sequences, draft_outputs.scores, normalize_logits=True\n",
    "# )\n",
    "# print(\"transition_scores:\")\n",
    "# print(transition_scores)"
   ]
  },
  {
   "cell_type": "code",
   "execution_count": 19,
   "metadata": {},
   "outputs": [
    {
     "data": {
      "text/plain": [
       "tensor([[ True,  True,  True,  True,  True,  True,  True,  True,  True, False,\n",
       "         False, False, False, False, False, False, False, False, False, False,\n",
       "         False, False, False, False, False, False]])"
      ]
     },
     "execution_count": 19,
     "metadata": {},
     "output_type": "execute_result"
    }
   ],
   "source": []
  },
  {
   "cell_type": "code",
   "execution_count": null,
   "metadata": {},
   "outputs": [],
   "source": [
    "from typing import Any\n",
    "from torch import Tensor\n",
    "from collections.abc import Iterable\n",
    "\n",
    "\n",
    "def print_shapes(obj: Any, level: int = 0):\n",
    "    padding = \"--\" * level\n",
    "    if isinstance(obj, Tensor):\n",
    "        print(f\"{padding}{obj.shape}\")\n",
    "    elif isinstance(obj, dict):\n",
    "        for k, v in obj.items():\n",
    "            print(f\"{padding}{k}\")\n",
    "            print_shapes(v, level + 1)\n",
    "    elif isinstance(obj, str):\n",
    "        print(f\"{padding}type {type(obj)} is not supported\")\n",
    "    elif isinstance(obj, Iterable):\n",
    "        for x in obj:\n",
    "            print_shapes(x, level + 1)\n",
    "    else:\n",
    "        print(f\"{padding}type {type(obj)} is not supported\")\n",
    "\n",
    "\n",
    "# # Test cases\n",
    "# print_shapes([\"test\", Tensor([1, 2, 3]), {\"key\": Tensor([4, 5, 6])}])\n",
    "# print(\"====\")\n",
    "# print_shapes(\"This is a string\")\n",
    "# print(\"====\")\n",
    "# print_shapes((1, 2, Tensor([7, 8, 9]), {\"nested\": [Tensor([10, 11, 12]), \"string\"]}))\n"
   ]
  },
  {
   "cell_type": "code",
   "execution_count": null,
   "metadata": {},
   "outputs": [],
   "source": [
    "import transformers\n",
    "\n",
    "assert isinstance(draft_inputs, transformers.tokenization_utils_base.BatchEncoding)"
   ]
  },
  {
   "cell_type": "code",
   "execution_count": null,
   "metadata": {},
   "outputs": [],
   "source": [
    "print_shapes(draft_outputs)"
   ]
  },
  {
   "cell_type": "code",
   "execution_count": null,
   "metadata": {},
   "outputs": [],
   "source": [
    "type(draft_outputs.scores), len(draft_outputs.scores)"
   ]
  },
  {
   "cell_type": "code",
   "execution_count": null,
   "metadata": {},
   "outputs": [],
   "source": [
    "print(draft_outputs.scores[-1].shape)\n",
    "print(draft_outputs.scores[-1].min())\n",
    "print(draft_outputs.scores[-1].max())"
   ]
  },
  {
   "cell_type": "code",
   "execution_count": null,
   "metadata": {},
   "outputs": [],
   "source": [
    "draft_tokenizer.batch_decode(draft_outputs.sequences)"
   ]
  },
  {
   "cell_type": "code",
   "execution_count": null,
   "metadata": {},
   "outputs": [],
   "source": [
    "import numpy as np\n",
    "\n",
    "\n",
    "# input_length is the length of the input prompt for decoder-only models, like the GPT family, and 1 for\n",
    "# encoder-decoder models, like BART or T5.\n",
    "input_length = 1 if draft_model.config.is_encoder_decoder else draft_inputs.input_ids.shape[1]\n",
    "generated_tokens = draft_outputs.sequences[:, input_length:]\n",
    "for tok, score in zip(generated_tokens[0], transition_scores[0]):\n",
    "    # | token | token string | logits | probability\n",
    "    print(f\"| {tok:5d} | {draft_tokenizer.decode(tok):8s} | {score.numpy():.3f} | {np.exp(score.numpy()):.2%}\")"
   ]
  }
 ],
 "metadata": {
  "kernelspec": {
   "display_name": "jaymody-sps-env",
   "language": "python",
   "name": "python3"
  },
  "language_info": {
   "codemirror_mode": {
    "name": "ipython",
    "version": 3
   },
   "file_extension": ".py",
   "mimetype": "text/x-python",
   "name": "python",
   "nbconvert_exporter": "python",
   "pygments_lexer": "ipython3",
   "version": "3.9.10"
  }
 },
 "nbformat": 4,
 "nbformat_minor": 2
}
