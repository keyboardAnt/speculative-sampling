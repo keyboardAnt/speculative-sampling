{
 "cells": [
  {
   "cell_type": "code",
   "execution_count": 1,
   "metadata": {},
   "outputs": [
    {
     "name": "stdout",
     "output_type": "stream",
     "text": [
      "/Users/nadavt/opt/anaconda3/envs/jaymody-sps-env/bin/python\n",
      "Python 3.9.10\n",
      "zsh:1: command not found: nvidia-smi\n"
     ]
    }
   ],
   "source": [
    "!which python\n",
    "!python --version\n",
    "!nvidia-smi"
   ]
  },
  {
   "cell_type": "code",
   "execution_count": 2,
   "metadata": {},
   "outputs": [],
   "source": [
    "# !python -m torch.utils.collect_env"
   ]
  },
  {
   "cell_type": "code",
   "execution_count": 3,
   "metadata": {},
   "outputs": [
    {
     "name": "stdout",
     "output_type": "stream",
     "text": [
      "Note: you may need to restart the kernel to use updated packages.\n"
     ]
    }
   ],
   "source": [
    "pip install -q torch transformers"
   ]
  },
  {
   "cell_type": "code",
   "execution_count": 4,
   "metadata": {},
   "outputs": [
    {
     "name": "stderr",
     "output_type": "stream",
     "text": [
      "/Users/nadavt/opt/anaconda3/envs/jaymody-sps-env/lib/python3.9/site-packages/tqdm/auto.py:22: TqdmWarning: IProgress not found. Please update jupyter and ipywidgets. See https://ipywidgets.readthedocs.io/en/stable/user_install.html\n",
      "  from .autonotebook import tqdm as notebook_tqdm\n"
     ]
    },
    {
     "data": {
      "text/plain": [
       "torch.Size([1, 6, 50257])"
      ]
     },
     "execution_count": 4,
     "metadata": {},
     "output_type": "execute_result"
    }
   ],
   "source": [
    "# Load model & Sanity check\n",
    "import torch\n",
    "from transformers import AutoTokenizer, GPT2LMHeadModel\n",
    "\n",
    "draft_tokenizer = AutoTokenizer.from_pretrained(\"gpt2\")\n",
    "target_tokenizer = AutoTokenizer.from_pretrained(\"gpt2-medium\")\n",
    "\n",
    "draft_model = GPT2LMHeadModel.from_pretrained(\"gpt2\")\n",
    "target_model = GPT2LMHeadModel.from_pretrained(\"gpt2-medium\")\n",
    "\n",
    "draft_inputs = draft_tokenizer(\"Hello, my dog is cute\", return_tensors=\"pt\")\n",
    "target_inputs = target_tokenizer(\"Hello, my dog is cute\", return_tensors=\"pt\")\n",
    "# Assert that `draft_tokenizer` and `target_tokenizer` are equivalent\n",
    "assert torch.all(draft_inputs.input_ids == target_inputs.input_ids)\n",
    "assert torch.all(draft_inputs.attention_mask == target_inputs.attention_mask)\n",
    "\n",
    "draft_outputs = draft_model(**draft_inputs, labels=draft_inputs[\"input_ids\"])\n",
    "target_outputs = target_model(**target_inputs, labels=target_inputs[\"input_ids\"])\n",
    "\n",
    "\n",
    "loss = draft_outputs.loss\n",
    "logits = draft_outputs.logits\n",
    "logits.shape"
   ]
  },
  {
   "cell_type": "code",
   "execution_count": 5,
   "metadata": {},
   "outputs": [
    {
     "name": "stderr",
     "output_type": "stream",
     "text": [
      "The attention mask and the pad token id were not set. As a consequence, you may observe unexpected behavior. Please pass your input's `attention_mask` to obtain reliable results.\n",
      "Setting `pad_token_id` to `eos_token_id`:50256 for open-end generation.\n",
      "The attention mask and the pad token id were not set. As a consequence, you may observe unexpected behavior. Please pass your input's `attention_mask` to obtain reliable results.\n",
      "Setting `pad_token_id` to `eos_token_id`:50256 for open-end generation.\n"
     ]
    },
    {
     "name": "stdout",
     "output_type": "stream",
     "text": [
      "draft_outputs.sequences == target_outputs.sequences:\n",
      "tensor([[ True,  True,  True,  True,  True,  True,  True,  True,  True, False,\n",
      "         False, False, False, False, False, False, False, False, False, False,\n",
      "         False, False, False, False, False, False]])\n",
      "draft_outputs.sequences:\n",
      "[\"Hello, my dog is cute. I'm not sure if she's a puppy or not. I'm not sure if she's\"]\n",
      "target_outputs.sequences:\n",
      "[\"Hello, my dog is cute. I'm going to take him to the park today. I'm going to take him to the\"]\n"
     ]
    }
   ],
   "source": [
    "# Generate\n",
    "draft_outputs = draft_model.generate(draft_inputs.input_ids, max_new_tokens=20, return_dict_in_generate=True, output_scores=True, do_sample=False)\n",
    "target_outputs = target_model.generate(target_inputs.input_ids, max_new_tokens=20, return_dict_in_generate=True, output_scores=True, do_sample=False)\n",
    "print(\"draft_outputs.sequences == target_outputs.sequences:\")\n",
    "print(draft_outputs.sequences == target_outputs.sequences)\n",
    "\n",
    "print(\"draft_outputs.sequences:\")\n",
    "print(draft_tokenizer.batch_decode(draft_outputs.sequences))\n",
    "\n",
    "print(\"target_outputs.sequences:\")\n",
    "print(target_tokenizer.batch_decode(target_outputs.sequences))\n",
    "\n",
    "# print(\"draft_outputs:\")\n",
    "# print(draft_outputs)\n",
    "# print(\"====\")\n",
    "# transition_scores = draft_model.compute_transition_scores(\n",
    "#     draft_outputs.sequences, draft_outputs.scores, normalize_logits=True\n",
    "# )\n",
    "# print(\"transition_scores:\")\n",
    "# print(transition_scores)"
   ]
  },
  {
   "cell_type": "code",
   "execution_count": 6,
   "metadata": {},
   "outputs": [
    {
     "name": "stdout",
     "output_type": "stream",
     "text": [
      "additional_input_ids.shape: torch.Size([3, 3])\n",
      "additional_input_ids:\n"
     ]
    },
    {
     "data": {
      "text/plain": [
       "tensor([[0, 1, 2],\n",
       "        [0, 1, 2],\n",
       "        [0, 1, 2]])"
      ]
     },
     "execution_count": 6,
     "metadata": {},
     "output_type": "execute_result"
    }
   ],
   "source": [
    "K = 3\n",
    "additional_input_ids = torch.arange(K).unsqueeze(0).repeat(3, 1)\n",
    "print(\"additional_input_ids.shape:\", additional_input_ids.shape)\n",
    "print(\"additional_input_ids:\")\n",
    "additional_input_ids"
   ]
  },
  {
   "cell_type": "code",
   "execution_count": 7,
   "metadata": {},
   "outputs": [
    {
     "data": {
      "text/plain": [
       "tensor([[15496,    11,   616,  3290,   318, 13779],\n",
       "        [15496,    11,   616,  3290,   318, 13779],\n",
       "        [15496,    11,   616,  3290,   318, 13779]])"
      ]
     },
     "execution_count": 7,
     "metadata": {},
     "output_type": "execute_result"
    }
   ],
   "source": [
    "torch.tile(draft_inputs.input_ids, (K, 1))"
   ]
  },
  {
   "cell_type": "code",
   "execution_count": 8,
   "metadata": {},
   "outputs": [
    {
     "name": "stderr",
     "output_type": "stream",
     "text": [
      "The attention mask and the pad token id were not set. As a consequence, you may observe unexpected behavior. Please pass your input's `attention_mask` to obtain reliable results.\n",
      "Setting `pad_token_id` to `eos_token_id`:50256 for open-end generation.\n",
      "Setting `pad_token_id` to `eos_token_id`:50256 for open-end generation.\n"
     ]
    },
    {
     "name": "stdout",
     "output_type": "stream",
     "text": [
      "Is attention_mask is unnecessary? tensor(True)\n"
     ]
    }
   ],
   "source": [
    "# Verifying: generate(**inputs, ...) == generate(inputs.input_ids, ...)\n",
    "print(\"Is attention_mask is unnecessary?\", torch.all(draft_model.generate(draft_inputs.input_ids, max_new_tokens=20, return_dict_in_generate=True, output_scores=True, do_sample=False).sequences == draft_model.generate(**draft_inputs, max_new_tokens=20, return_dict_in_generate=True, output_scores=True, do_sample=False).sequences))"
   ]
  },
  {
   "cell_type": "code",
   "execution_count": 9,
   "metadata": {},
   "outputs": [],
   "source": [
    "from typing import Any\n",
    "from torch import Tensor\n",
    "from collections.abc import Iterable\n",
    "\n",
    "\n",
    "def print_shapes(obj: Any, level: int = 0):\n",
    "    padding = \"--\" * level\n",
    "    if isinstance(obj, Tensor):\n",
    "        print(f\"{padding}{obj.shape}\")\n",
    "    elif isinstance(obj, dict):\n",
    "        for k, v in obj.items():\n",
    "            print(f\"{padding}{k}\")\n",
    "            print_shapes(v, level + 1)\n",
    "    elif isinstance(obj, str):\n",
    "        print(f\"{padding}type {type(obj)} is not supported\")\n",
    "    elif isinstance(obj, Iterable):\n",
    "        for x in obj:\n",
    "            print_shapes(x, level + 1)\n",
    "    else:\n",
    "        print(f\"{padding}type {type(obj)} is not supported\")\n",
    "\n",
    "\n",
    "# # Test cases\n",
    "# print_shapes([\"test\", Tensor([1, 2, 3]), {\"key\": Tensor([4, 5, 6])}])\n",
    "# print(\"====\")\n",
    "# print_shapes(\"This is a string\")\n",
    "# print(\"====\")\n",
    "# print_shapes((1, 2, Tensor([7, 8, 9]), {\"nested\": [Tensor([10, 11, 12]), \"string\"]}))\n"
   ]
  },
  {
   "cell_type": "code",
   "execution_count": 10,
   "metadata": {},
   "outputs": [],
   "source": [
    "import transformers\n",
    "\n",
    "assert isinstance(draft_inputs, transformers.tokenization_utils_base.BatchEncoding)"
   ]
  },
  {
   "cell_type": "code",
   "execution_count": 11,
   "metadata": {},
   "outputs": [
    {
     "name": "stdout",
     "output_type": "stream",
     "text": [
      "sequences\n",
      "--torch.Size([1, 26])\n",
      "scores\n",
      "----torch.Size([1, 50257])\n",
      "----torch.Size([1, 50257])\n",
      "----torch.Size([1, 50257])\n",
      "----torch.Size([1, 50257])\n",
      "----torch.Size([1, 50257])\n",
      "----torch.Size([1, 50257])\n",
      "----torch.Size([1, 50257])\n",
      "----torch.Size([1, 50257])\n",
      "----torch.Size([1, 50257])\n",
      "----torch.Size([1, 50257])\n",
      "----torch.Size([1, 50257])\n",
      "----torch.Size([1, 50257])\n",
      "----torch.Size([1, 50257])\n",
      "----torch.Size([1, 50257])\n",
      "----torch.Size([1, 50257])\n",
      "----torch.Size([1, 50257])\n",
      "----torch.Size([1, 50257])\n",
      "----torch.Size([1, 50257])\n",
      "----torch.Size([1, 50257])\n",
      "----torch.Size([1, 50257])\n"
     ]
    }
   ],
   "source": [
    "print_shapes(draft_outputs)"
   ]
  },
  {
   "cell_type": "code",
   "execution_count": 12,
   "metadata": {},
   "outputs": [
    {
     "data": {
      "text/plain": [
       "(tuple, 20)"
      ]
     },
     "execution_count": 12,
     "metadata": {},
     "output_type": "execute_result"
    }
   ],
   "source": [
    "type(draft_outputs.scores), len(draft_outputs.scores)"
   ]
  },
  {
   "cell_type": "code",
   "execution_count": 13,
   "metadata": {},
   "outputs": [
    {
     "name": "stdout",
     "output_type": "stream",
     "text": [
      "torch.Size([1, 50257])\n",
      "tensor(-156.0659)\n",
      "tensor(-112.9710)\n"
     ]
    }
   ],
   "source": [
    "print(draft_outputs.scores[-1].shape)\n",
    "print(draft_outputs.scores[-1].min())\n",
    "print(draft_outputs.scores[-1].max())"
   ]
  },
  {
   "cell_type": "code",
   "execution_count": 14,
   "metadata": {},
   "outputs": [
    {
     "data": {
      "text/plain": [
       "[\"Hello, my dog is cute. I'm not sure if she's a puppy or not. I'm not sure if she's\"]"
      ]
     },
     "execution_count": 14,
     "metadata": {},
     "output_type": "execute_result"
    }
   ],
   "source": [
    "draft_tokenizer.batch_decode(draft_outputs.sequences)"
   ]
  },
  {
   "cell_type": "code",
   "execution_count": 15,
   "metadata": {},
   "outputs": [
    {
     "ename": "NameError",
     "evalue": "name 'transition_scores' is not defined",
     "output_type": "error",
     "traceback": [
      "\u001b[0;31m---------------------------------------------------------------------------\u001b[0m",
      "\u001b[0;31mNameError\u001b[0m                                 Traceback (most recent call last)",
      "\u001b[1;32m/Users/nadavt/repos/speculative-sampling/transformers.ipynb Cell 15\u001b[0m line \u001b[0;36m8\n\u001b[1;32m      <a href='vscode-notebook-cell:/Users/nadavt/repos/speculative-sampling/transformers.ipynb#X21sZmlsZQ%3D%3D?line=5'>6</a>\u001b[0m input_length \u001b[39m=\u001b[39m \u001b[39m1\u001b[39m \u001b[39mif\u001b[39;00m draft_model\u001b[39m.\u001b[39mconfig\u001b[39m.\u001b[39mis_encoder_decoder \u001b[39melse\u001b[39;00m draft_inputs\u001b[39m.\u001b[39minput_ids\u001b[39m.\u001b[39mshape[\u001b[39m1\u001b[39m]\n\u001b[1;32m      <a href='vscode-notebook-cell:/Users/nadavt/repos/speculative-sampling/transformers.ipynb#X21sZmlsZQ%3D%3D?line=6'>7</a>\u001b[0m generated_tokens \u001b[39m=\u001b[39m draft_outputs\u001b[39m.\u001b[39msequences[:, input_length:]\n\u001b[0;32m----> <a href='vscode-notebook-cell:/Users/nadavt/repos/speculative-sampling/transformers.ipynb#X21sZmlsZQ%3D%3D?line=7'>8</a>\u001b[0m \u001b[39mfor\u001b[39;00m tok, score \u001b[39min\u001b[39;00m \u001b[39mzip\u001b[39m(generated_tokens[\u001b[39m0\u001b[39m], transition_scores[\u001b[39m0\u001b[39m]):\n\u001b[1;32m      <a href='vscode-notebook-cell:/Users/nadavt/repos/speculative-sampling/transformers.ipynb#X21sZmlsZQ%3D%3D?line=8'>9</a>\u001b[0m     \u001b[39m# | token | token string | logits | probability\u001b[39;00m\n\u001b[1;32m     <a href='vscode-notebook-cell:/Users/nadavt/repos/speculative-sampling/transformers.ipynb#X21sZmlsZQ%3D%3D?line=9'>10</a>\u001b[0m     \u001b[39mprint\u001b[39m(\u001b[39mf\u001b[39m\u001b[39m\"\u001b[39m\u001b[39m| \u001b[39m\u001b[39m{\u001b[39;00mtok\u001b[39m:\u001b[39;00m\u001b[39m5d\u001b[39m\u001b[39m}\u001b[39;00m\u001b[39m | \u001b[39m\u001b[39m{\u001b[39;00mdraft_tokenizer\u001b[39m.\u001b[39mdecode(tok)\u001b[39m:\u001b[39;00m\u001b[39m8s\u001b[39m\u001b[39m}\u001b[39;00m\u001b[39m | \u001b[39m\u001b[39m{\u001b[39;00mscore\u001b[39m.\u001b[39mnumpy()\u001b[39m:\u001b[39;00m\u001b[39m.3f\u001b[39m\u001b[39m}\u001b[39;00m\u001b[39m | \u001b[39m\u001b[39m{\u001b[39;00mnp\u001b[39m.\u001b[39mexp(score\u001b[39m.\u001b[39mnumpy())\u001b[39m:\u001b[39;00m\u001b[39m.2%\u001b[39m\u001b[39m}\u001b[39;00m\u001b[39m\"\u001b[39m)\n",
      "\u001b[0;31mNameError\u001b[0m: name 'transition_scores' is not defined"
     ]
    }
   ],
   "source": [
    "import numpy as np\n",
    "\n",
    "\n",
    "# input_length is the length of the input prompt for decoder-only models, like the GPT family, and 1 for\n",
    "# encoder-decoder models, like BART or T5.\n",
    "input_length = 1 if draft_model.config.is_encoder_decoder else draft_inputs.input_ids.shape[1]\n",
    "generated_tokens = draft_outputs.sequences[:, input_length:]\n",
    "for tok, score in zip(generated_tokens[0], transition_scores[0]):\n",
    "    # | token | token string | logits | probability\n",
    "    print(f\"| {tok:5d} | {draft_tokenizer.decode(tok):8s} | {score.numpy():.3f} | {np.exp(score.numpy()):.2%}\")"
   ]
  },
  {
   "cell_type": "markdown",
   "metadata": {},
   "source": [
    "Batching"
   ]
  },
  {
   "cell_type": "code",
   "execution_count": 82,
   "metadata": {},
   "outputs": [
    {
     "name": "stdout",
     "output_type": "stream",
     "text": [
      "Let's see how to create a batch of inputs with different lengths...\n",
      "---\n",
      "Here is how the input_ids look like. It is a tensor of shape (batch_size=1, sequence_length):\n",
      "draft_inputs.input_ids.shape=torch.Size([1, 6])\n",
      "draft_inputs.input_ids=tensor([[15496,    11,   616,  3290,   318, 13779]])\n",
      "---\n",
      "We want to create something similar... First, here is how we can concatenate new tokens to a sequence:\n",
      "seq=tensor([[0., 1., 2.]])\n",
      "seq.shape=torch.Size([1, 3])\n",
      "\n",
      "new_token=tensor([[3.]])\n",
      "new_token.shape=torch.Size([1, 1])\n",
      "\n",
      "new_seq=tensor([[0., 1., 2., 3.]])\n",
      "new_seq.shape=torch.Size([1, 4])\n",
      "---\n",
      "=== NESTED TENSORS ===\n",
      "batch=nested_tensor([\n",
      "  tensor([0., 1., 2.]),\n",
      "  tensor([0., 1., 2., 3.])\n",
      "])\n",
      "batch_reversed=nested_tensor([\n",
      "  tensor([0., 1., 2., 3.]),\n",
      "  tensor([0., 1., 2.])\n",
      "])\n",
      "---\n",
      "Unfortunately, converting a nested tensor to a padded tensor is always left-padded:\n",
      "padded_batch=tensor([[0., 1., 2., nan],\n",
      "        [0., 1., 2., 3.]])\n",
      "padded_batch.shape=torch.Size([2, 4])\n",
      "\n",
      "padded_batch_reversed=tensor([[0., 1., 2., 3.],\n",
      "        [0., 1., 2., nan]])\n",
      "padded_batch_reversed.shape=torch.Size([2, 4])\n",
      "---\n",
      "=== LEFT PADDING ===\n",
      "Padding the original sequence to the same length as new_seq:\n",
      "pad_size=1\n",
      "padded_seq=tensor([[nan, 0., 1., 2.]])\n",
      "Creating a batch with padded_seq and new_seq:\n",
      "padded_batch=tensor([[nan, 0., 1., 2.],\n",
      "        [0., 1., 2., 3.]])\n",
      "padded_batch.shape=torch.Size([2, 4])\n"
     ]
    }
   ],
   "source": [
    "import torch\n",
    "\n",
    "print(\"Let's see how to create a batch of inputs with different lengths...\", end=\"\\n---\\n\")\n",
    "print(\"Here is how the input_ids look like. It is a tensor of shape (batch_size=1, sequence_length):\")\n",
    "print(f\"{draft_inputs.input_ids.shape=}\")\n",
    "print(f\"{draft_inputs.input_ids=}\")\n",
    "\n",
    "print(\"---\")\n",
    "print(\"We want to create something similar... First, here is how we can concatenate new tokens to a sequence:\")\n",
    "# Initial sequence and new token\n",
    "seq = torch.arange(3, dtype=torch.float).view(1, -1)  # Shape: (batch_size=1, seq_len=3)\n",
    "new_token = torch.Tensor([3]).view(1, -1)  # Shape: (batch_size=1, seq_len=1)\n",
    "new_seq = torch.cat((seq, new_token), dim=-1)  # Shape: (batch_size=1, seq_len=4)\n",
    "print(f\"{seq=}\")\n",
    "print(f\"{seq.shape=}\")\n",
    "print()\n",
    "print(f\"{new_token=}\")\n",
    "print(f\"{new_token.shape=}\")\n",
    "print()\n",
    "print(f\"{new_seq=}\")\n",
    "print(f\"{new_seq.shape=}\")\n",
    "\n",
    "print(\"---\")\n",
    "print(\"=== NESTED TENSORS ===\")\n",
    "batch: Tensor = torch.nested.nested_tensor([seq.squeeze(), new_seq.squeeze()])\n",
    "batch_reversed: Tensor = torch.nested.nested_tensor([new_seq.squeeze(), seq.squeeze()])\n",
    "print(f\"{batch=}\")\n",
    "print(f\"{batch_reversed=}\")\n",
    "\n",
    "print(\"---\")\n",
    "print(\"Unfortunately, converting a nested tensor to a padded tensor is always left-padded:\")\n",
    "padded_batch: Tensor = torch.nested.to_padded_tensor(batch, padding=torch.nan)\n",
    "padded_batch_reversed: Tensor = torch.nested.to_padded_tensor(batch_reversed, padding=torch.nan)\n",
    "print(f\"{padded_batch=}\")\n",
    "print(f\"{padded_batch.shape=}\")\n",
    "print()\n",
    "print(f\"{padded_batch_reversed=}\")\n",
    "print(f\"{padded_batch_reversed.shape=}\")\n",
    "\n",
    "print(\"---\")\n",
    "print(\"=== LEFT PADDING ===\")\n",
    "print(\"Padding the original sequence to the same length as new_seq:\")\n",
    "pad_size = new_seq.size(1) - seq.size(1)\n",
    "print(f\"{pad_size=}\")\n",
    "pad_token_id = eos_token_id = torch.nan\n",
    "padded_seq = torch.nn.functional.pad(seq, (pad_size, 0), value=pad_token_id)  # Left padding\n",
    "print(f\"{padded_seq=}\")\n",
    "\n",
    "print(\"Creating a batch with padded_seq and new_seq:\")\n",
    "padded_batch = torch.stack([padded_seq.squeeze(), new_seq.squeeze()], dim=0)\n",
    "print(f\"{padded_batch=}\")\n",
    "print(f\"{padded_batch.shape=}\")"
   ]
  }
 ],
 "metadata": {
  "kernelspec": {
   "display_name": "jaymody-sps-env",
   "language": "python",
   "name": "python3"
  },
  "language_info": {
   "codemirror_mode": {
    "name": "ipython",
    "version": 3
   },
   "file_extension": ".py",
   "mimetype": "text/x-python",
   "name": "python",
   "nbconvert_exporter": "python",
   "pygments_lexer": "ipython3",
   "version": "3.9.10"
  }
 },
 "nbformat": 4,
 "nbformat_minor": 2
}
